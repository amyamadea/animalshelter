{
 "cells": [
  {
   "cell_type": "code",
   "execution_count": 1,
   "metadata": {},
   "outputs": [],
   "source": [
    "import numpy as np \n",
    "import pandas as pd \n",
    "import matplotlib\n",
    "from matplotlib import pyplot as plt\n",
    "import seaborn as sns\n",
    "%matplotlib inline\n",
    "\n",
    "pd.options.display.max_colwidth = 100\n",
    "pd.options.display.max_rows = 1000\n",
    "pd.options.display.max_columns = 500\n",
    "\n",
    "import warnings\n",
    "warnings.filterwarnings('ignore')"
   ]
  },
  {
   "cell_type": "markdown",
   "metadata": {},
   "source": [
    "# Get Data"
   ]
  },
  {
   "cell_type": "code",
   "execution_count": 2,
   "metadata": {},
   "outputs": [
    {
     "data": {
      "text/html": [
       "<div>\n",
       "<style scoped>\n",
       "    .dataframe tbody tr th:only-of-type {\n",
       "        vertical-align: middle;\n",
       "    }\n",
       "\n",
       "    .dataframe tbody tr th {\n",
       "        vertical-align: top;\n",
       "    }\n",
       "\n",
       "    .dataframe thead th {\n",
       "        text-align: right;\n",
       "    }\n",
       "</style>\n",
       "<table border=\"1\" class=\"dataframe\">\n",
       "  <thead>\n",
       "    <tr style=\"text-align: right;\">\n",
       "      <th></th>\n",
       "      <th>AnimalID</th>\n",
       "      <th>Name</th>\n",
       "      <th>DateTime</th>\n",
       "      <th>OutcomeType</th>\n",
       "      <th>OutcomeSubtype</th>\n",
       "      <th>AnimalType</th>\n",
       "      <th>SexuponOutcome</th>\n",
       "      <th>AgeuponOutcome</th>\n",
       "      <th>Breed</th>\n",
       "      <th>Color</th>\n",
       "    </tr>\n",
       "  </thead>\n",
       "  <tbody>\n",
       "    <tr>\n",
       "      <th>0</th>\n",
       "      <td>A671945</td>\n",
       "      <td>Hambone</td>\n",
       "      <td>2014-02-12 18:22:00</td>\n",
       "      <td>Return_to_owner</td>\n",
       "      <td>NaN</td>\n",
       "      <td>Dog</td>\n",
       "      <td>Neutered Male</td>\n",
       "      <td>1 year</td>\n",
       "      <td>Shetland Sheepdog Mix</td>\n",
       "      <td>Brown/White</td>\n",
       "    </tr>\n",
       "    <tr>\n",
       "      <th>1</th>\n",
       "      <td>A656520</td>\n",
       "      <td>Emily</td>\n",
       "      <td>2013-10-13 12:44:00</td>\n",
       "      <td>Euthanasia</td>\n",
       "      <td>Suffering</td>\n",
       "      <td>Cat</td>\n",
       "      <td>Spayed Female</td>\n",
       "      <td>1 year</td>\n",
       "      <td>Domestic Shorthair Mix</td>\n",
       "      <td>Cream Tabby</td>\n",
       "    </tr>\n",
       "  </tbody>\n",
       "</table>\n",
       "</div>"
      ],
      "text/plain": [
       "  AnimalID     Name             DateTime      OutcomeType OutcomeSubtype  \\\n",
       "0  A671945  Hambone  2014-02-12 18:22:00  Return_to_owner            NaN   \n",
       "1  A656520    Emily  2013-10-13 12:44:00       Euthanasia      Suffering   \n",
       "\n",
       "  AnimalType SexuponOutcome AgeuponOutcome                   Breed  \\\n",
       "0        Dog  Neutered Male         1 year   Shetland Sheepdog Mix   \n",
       "1        Cat  Spayed Female         1 year  Domestic Shorthair Mix   \n",
       "\n",
       "         Color  \n",
       "0  Brown/White  \n",
       "1  Cream Tabby  "
      ]
     },
     "execution_count": 2,
     "metadata": {},
     "output_type": "execute_result"
    }
   ],
   "source": [
    "animalDf = pd.read_csv(\"train a.csv\", sep=\",\")\n",
    "animalDf.head(2)"
   ]
  },
  {
   "cell_type": "code",
   "execution_count": 3,
   "metadata": {},
   "outputs": [],
   "source": [
    "animalDf.drop(['Name', 'AnimalID', 'OutcomeSubtype'], axis=1, inplace=True)"
   ]
  },
  {
   "cell_type": "code",
   "execution_count": 4,
   "metadata": {},
   "outputs": [
    {
     "data": {
      "text/html": [
       "<div>\n",
       "<style scoped>\n",
       "    .dataframe tbody tr th:only-of-type {\n",
       "        vertical-align: middle;\n",
       "    }\n",
       "\n",
       "    .dataframe tbody tr th {\n",
       "        vertical-align: top;\n",
       "    }\n",
       "\n",
       "    .dataframe thead th {\n",
       "        text-align: right;\n",
       "    }\n",
       "</style>\n",
       "<table border=\"1\" class=\"dataframe\">\n",
       "  <thead>\n",
       "    <tr style=\"text-align: right;\">\n",
       "      <th></th>\n",
       "      <th>dataFeatures</th>\n",
       "      <th>dataType</th>\n",
       "      <th>null</th>\n",
       "      <th>nullPct</th>\n",
       "      <th>unique</th>\n",
       "      <th>uniqueSample</th>\n",
       "    </tr>\n",
       "  </thead>\n",
       "  <tbody>\n",
       "    <tr>\n",
       "      <th>0</th>\n",
       "      <td>DateTime</td>\n",
       "      <td>object</td>\n",
       "      <td>0</td>\n",
       "      <td>0.000000</td>\n",
       "      <td>22918</td>\n",
       "      <td>[2014-02-12 18:22:00, 2013-10-13 12:44:00, 2015-01-31 12:28:00, 2014-07-11 19:09:00, 2013-11-15 ...</td>\n",
       "    </tr>\n",
       "    <tr>\n",
       "      <th>1</th>\n",
       "      <td>OutcomeType</td>\n",
       "      <td>object</td>\n",
       "      <td>0</td>\n",
       "      <td>0.000000</td>\n",
       "      <td>5</td>\n",
       "      <td>[Return_to_owner, Euthanasia, Adoption, Transfer, Died]</td>\n",
       "    </tr>\n",
       "    <tr>\n",
       "      <th>2</th>\n",
       "      <td>AnimalType</td>\n",
       "      <td>object</td>\n",
       "      <td>0</td>\n",
       "      <td>0.000000</td>\n",
       "      <td>2</td>\n",
       "      <td>[Dog, Cat]</td>\n",
       "    </tr>\n",
       "    <tr>\n",
       "      <th>3</th>\n",
       "      <td>SexuponOutcome</td>\n",
       "      <td>object</td>\n",
       "      <td>2</td>\n",
       "      <td>0.003741</td>\n",
       "      <td>5</td>\n",
       "      <td>[Neutered Male, Spayed Female, Intact Male, Intact Female, Unknown]</td>\n",
       "    </tr>\n",
       "    <tr>\n",
       "      <th>4</th>\n",
       "      <td>AgeuponOutcome</td>\n",
       "      <td>object</td>\n",
       "      <td>36</td>\n",
       "      <td>0.067343</td>\n",
       "      <td>44</td>\n",
       "      <td>[1 year, 2 years, 3 weeks, 1 month, 5 months]</td>\n",
       "    </tr>\n",
       "    <tr>\n",
       "      <th>5</th>\n",
       "      <td>Breed</td>\n",
       "      <td>object</td>\n",
       "      <td>0</td>\n",
       "      <td>0.000000</td>\n",
       "      <td>1380</td>\n",
       "      <td>[Shetland Sheepdog Mix, Domestic Shorthair Mix, Pit Bull Mix, Lhasa Apso/Miniature Poodle, Cairn...</td>\n",
       "    </tr>\n",
       "    <tr>\n",
       "      <th>6</th>\n",
       "      <td>Color</td>\n",
       "      <td>object</td>\n",
       "      <td>0</td>\n",
       "      <td>0.000000</td>\n",
       "      <td>366</td>\n",
       "      <td>[Brown/White, Cream Tabby, Blue/White, Blue Cream, Tan]</td>\n",
       "    </tr>\n",
       "  </tbody>\n",
       "</table>\n",
       "</div>"
      ],
      "text/plain": [
       "     dataFeatures dataType  null   nullPct  unique  \\\n",
       "0        DateTime   object     0  0.000000   22918   \n",
       "1     OutcomeType   object     0  0.000000       5   \n",
       "2      AnimalType   object     0  0.000000       2   \n",
       "3  SexuponOutcome   object     2  0.003741       5   \n",
       "4  AgeuponOutcome   object    36  0.067343      44   \n",
       "5           Breed   object     0  0.000000    1380   \n",
       "6           Color   object     0  0.000000     366   \n",
       "\n",
       "                                                                                          uniqueSample  \n",
       "0  [2014-02-12 18:22:00, 2013-10-13 12:44:00, 2015-01-31 12:28:00, 2014-07-11 19:09:00, 2013-11-15 ...  \n",
       "1                                              [Return_to_owner, Euthanasia, Adoption, Transfer, Died]  \n",
       "2                                                                                           [Dog, Cat]  \n",
       "3                                  [Neutered Male, Spayed Female, Intact Male, Intact Female, Unknown]  \n",
       "4                                                        [1 year, 2 years, 3 weeks, 1 month, 5 months]  \n",
       "5  [Shetland Sheepdog Mix, Domestic Shorthair Mix, Pit Bull Mix, Lhasa Apso/Miniature Poodle, Cairn...  \n",
       "6                                              [Brown/White, Cream Tabby, Blue/White, Blue Cream, Tan]  "
      ]
     },
     "execution_count": 4,
     "metadata": {},
     "output_type": "execute_result"
    }
   ],
   "source": [
    "myData = animalDf\n",
    "\n",
    "m = []\n",
    "countData = len(myData)\n",
    "\n",
    "for i in range(len(myData.columns)):\n",
    "    countNull = len(myData[myData[myData.columns[i]].isnull()])\n",
    "    nullPct = countNull/countData * 100\n",
    "    \n",
    "    sample = []\n",
    "    \n",
    "    for item, x in zip(myData[myData.columns[i]].drop_duplicates(), range(5)):\n",
    "        sample.append(item)\n",
    "    \n",
    "    m.append([\n",
    "        myData.columns[i],\n",
    "        myData[myData.columns[i]].dtypes, \n",
    "        countNull, \n",
    "        nullPct, \n",
    "        myData[myData.columns[i]].nunique(), \n",
    "        sample\n",
    "    ])\n",
    "    \n",
    "describeDF = pd.DataFrame(columns=['dataFeatures', 'dataType', 'null', 'nullPct', 'unique', 'uniqueSample'], data=m)\n",
    "describeDF"
   ]
  },
  {
   "cell_type": "code",
   "execution_count": 5,
   "metadata": {},
   "outputs": [
    {
     "name": "stdout",
     "output_type": "stream",
     "text": [
      "<class 'pandas.core.frame.DataFrame'>\n",
      "RangeIndex: 53458 entries, 0 to 53457\n",
      "Data columns (total 7 columns):\n",
      "DateTime          53458 non-null object\n",
      "OutcomeType       53458 non-null object\n",
      "AnimalType        53458 non-null object\n",
      "SexuponOutcome    53456 non-null object\n",
      "AgeuponOutcome    53422 non-null object\n",
      "Breed             53458 non-null object\n",
      "Color             53458 non-null object\n",
      "dtypes: object(7)\n",
      "memory usage: 2.9+ MB\n"
     ]
    }
   ],
   "source": [
    "animalDf.info()"
   ]
  },
  {
   "cell_type": "markdown",
   "metadata": {},
   "source": [
    "# EDA"
   ]
  },
  {
   "cell_type": "markdown",
   "metadata": {},
   "source": [
    "## Feature Engineering"
   ]
  },
  {
   "cell_type": "code",
   "execution_count": 6,
   "metadata": {},
   "outputs": [],
   "source": [
    "animalDf = animalDf.dropna()"
   ]
  },
  {
   "cell_type": "code",
   "execution_count": 7,
   "metadata": {},
   "outputs": [
    {
     "name": "stdout",
     "output_type": "stream",
     "text": [
      "<class 'pandas.core.frame.DataFrame'>\n",
      "Int64Index: 53420 entries, 0 to 53457\n",
      "Data columns (total 7 columns):\n",
      "DateTime          53420 non-null object\n",
      "OutcomeType       53420 non-null object\n",
      "AnimalType        53420 non-null object\n",
      "SexuponOutcome    53420 non-null object\n",
      "AgeuponOutcome    53420 non-null object\n",
      "Breed             53420 non-null object\n",
      "Color             53420 non-null object\n",
      "dtypes: object(7)\n",
      "memory usage: 3.3+ MB\n"
     ]
    }
   ],
   "source": [
    "animalDf.info()"
   ]
  },
  {
   "cell_type": "code",
   "execution_count": 8,
   "metadata": {},
   "outputs": [],
   "source": [
    "adoption = []\n",
    "\n",
    "for item in animalDf['OutcomeType']:\n",
    "    if (item=='Adoption'): \n",
    "        adoption.append(1)\n",
    "    else:\n",
    "        adoption.append(0)\n",
    "\n",
    "animalDf = animalDf.assign(adoption=adoption)"
   ]
  },
  {
   "cell_type": "code",
   "execution_count": 9,
   "metadata": {},
   "outputs": [],
   "source": [
    "animalDf = animalDf.assign(month=pd.DatetimeIndex(animalDf['DateTime']).month)"
   ]
  },
  {
   "cell_type": "code",
   "execution_count": 10,
   "metadata": {},
   "outputs": [],
   "source": [
    "def setAges(age):\n",
    "    age = age.split(' ')\n",
    "    if ((age[1]=='year') | (age[1]=='years')):\n",
    "        day = int(age[0])*365\n",
    "    elif ((age[1]=='month') | (age[1]=='months')):\n",
    "        day = int(age[0])*30\n",
    "    elif ((age[1]=='week') | (age[1]=='weeks')):\n",
    "        day = int(age[0])*7\n",
    "    else:\n",
    "        day = int(age[0])\n",
    "        \n",
    "    return day\n",
    "\n",
    "animalDf = animalDf.assign(Ages=animalDf['AgeuponOutcome'].apply(lambda age: setAges(age)))\n",
    "animalDf.drop('AgeuponOutcome', axis=1, inplace=True)"
   ]
  },
  {
   "cell_type": "code",
   "execution_count": 11,
   "metadata": {},
   "outputs": [],
   "source": [
    "breed = []\n",
    "\n",
    "for item in animalDf['Breed']:\n",
    "    if 'Mix' in item.split(): \n",
    "        breed.append('mixed') \n",
    "    else:\n",
    "        breed.append('pure') \n",
    "        \n",
    "animalDf = animalDf.assign(nBreed=breed)"
   ]
  },
  {
   "cell_type": "code",
   "execution_count": 12,
   "metadata": {},
   "outputs": [
    {
     "data": {
      "text/html": [
       "<div>\n",
       "<style scoped>\n",
       "    .dataframe tbody tr th:only-of-type {\n",
       "        vertical-align: middle;\n",
       "    }\n",
       "\n",
       "    .dataframe tbody tr th {\n",
       "        vertical-align: top;\n",
       "    }\n",
       "\n",
       "    .dataframe thead th {\n",
       "        text-align: right;\n",
       "    }\n",
       "</style>\n",
       "<table border=\"1\" class=\"dataframe\">\n",
       "  <thead>\n",
       "    <tr style=\"text-align: right;\">\n",
       "      <th></th>\n",
       "      <th>DateTime</th>\n",
       "      <th>OutcomeType</th>\n",
       "      <th>AnimalType</th>\n",
       "      <th>SexuponOutcome</th>\n",
       "      <th>Breed</th>\n",
       "      <th>Color</th>\n",
       "      <th>adoption</th>\n",
       "      <th>month</th>\n",
       "      <th>Ages</th>\n",
       "      <th>nBreed</th>\n",
       "    </tr>\n",
       "  </thead>\n",
       "  <tbody>\n",
       "    <tr>\n",
       "      <th>0</th>\n",
       "      <td>2014-02-12 18:22:00</td>\n",
       "      <td>Return_to_owner</td>\n",
       "      <td>Dog</td>\n",
       "      <td>Neutered Male</td>\n",
       "      <td>Shetland Sheepdog Mix</td>\n",
       "      <td>Brown/White</td>\n",
       "      <td>0</td>\n",
       "      <td>2</td>\n",
       "      <td>365</td>\n",
       "      <td>mixed</td>\n",
       "    </tr>\n",
       "    <tr>\n",
       "      <th>1</th>\n",
       "      <td>2013-10-13 12:44:00</td>\n",
       "      <td>Euthanasia</td>\n",
       "      <td>Cat</td>\n",
       "      <td>Spayed Female</td>\n",
       "      <td>Domestic Shorthair Mix</td>\n",
       "      <td>Cream Tabby</td>\n",
       "      <td>0</td>\n",
       "      <td>10</td>\n",
       "      <td>365</td>\n",
       "      <td>mixed</td>\n",
       "    </tr>\n",
       "  </tbody>\n",
       "</table>\n",
       "</div>"
      ],
      "text/plain": [
       "              DateTime      OutcomeType AnimalType SexuponOutcome  \\\n",
       "0  2014-02-12 18:22:00  Return_to_owner        Dog  Neutered Male   \n",
       "1  2013-10-13 12:44:00       Euthanasia        Cat  Spayed Female   \n",
       "\n",
       "                    Breed        Color  adoption  month  Ages nBreed  \n",
       "0   Shetland Sheepdog Mix  Brown/White         0      2   365  mixed  \n",
       "1  Domestic Shorthair Mix  Cream Tabby         0     10   365  mixed  "
      ]
     },
     "execution_count": 12,
     "metadata": {},
     "output_type": "execute_result"
    }
   ],
   "source": [
    "animalDf.head(2)"
   ]
  },
  {
   "cell_type": "markdown",
   "metadata": {},
   "source": [
    "### 1. Perbandingan jumlah hewan (per bulan)"
   ]
  },
  {
   "cell_type": "code",
   "execution_count": 13,
   "metadata": {},
   "outputs": [
    {
     "data": {
      "text/plain": [
       "<matplotlib.axes._subplots.AxesSubplot at 0x1eeb51c54e0>"
      ]
     },
     "execution_count": 13,
     "metadata": {},
     "output_type": "execute_result"
    },
    {
     "data": {
      "image/png": "[encoded data removed]",
      "text/plain": [
       "<Figure size 720x360 with 1 Axes>"
      ]
     },
     "metadata": {},
     "output_type": "display_data"
    }
   ],
   "source": [
    "plt.figure(figsize=(10, 5))\n",
    "sns.countplot(x=animalDf['month'], data=animalDf, palette='rainbow', hue='adoption')"
   ]
  },
  {
   "cell_type": "markdown",
   "metadata": {},
   "source": [
    "Kesimpulan: \n",
    "- Jumlah hewan yang tidak diadopsi lebih banyak dibandingkan dengan jumlah hewan yang diadopsi. \n",
    "- Hewan paling banyak diadopsi pada bulan Desember"
   ]
  },
  {
   "cell_type": "markdown",
   "metadata": {},
   "source": [
    "### 2. Perbandingan adopsi per jenis hewan"
   ]
  },
  {
   "cell_type": "code",
   "execution_count": 14,
   "metadata": {},
   "outputs": [
    {
     "data": {
      "text/plain": [
       "<matplotlib.axes._subplots.AxesSubplot at 0x1eeb8ed48d0>"
      ]
     },
     "execution_count": 14,
     "metadata": {},
     "output_type": "execute_result"
    },
    {
     "data": {
      "image/png": "[encoded data removed]",
      "text/plain": [
       "<Figure size 720x360 with 1 Axes>"
      ]
     },
     "metadata": {},
     "output_type": "display_data"
    }
   ],
   "source": [
    "plt.figure(figsize=(10, 5))\n",
    "sns.countplot(x='AnimalType', data=animalDf, palette='rainbow', hue='adoption')"
   ]
  },
  {
   "cell_type": "markdown",
   "metadata": {},
   "source": [
    "Kesimpulan:\n",
    "- Hewan dengan jumlah paling banyak, dan yang paling banyak diadopsi adalah anjing"
   ]
  },
  {
   "cell_type": "markdown",
   "metadata": {},
   "source": [
    "### 3. Perbandingan adopsi per jenis kelamin"
   ]
  },
  {
   "cell_type": "markdown",
   "metadata": {},
   "source": [
    "##### a. Perbandingan adopsi per jenis kelamin (keseluruhan)"
   ]
  },
  {
   "cell_type": "code",
   "execution_count": 15,
   "metadata": {},
   "outputs": [
    {
     "data": {
      "text/plain": [
       "<matplotlib.axes._subplots.AxesSubplot at 0x1eeba0574a8>"
      ]
     },
     "execution_count": 15,
     "metadata": {},
     "output_type": "execute_result"
    },
    {
     "data": {
      "image/png": "[encoded data removed]",
      "text/plain": [
       "<Figure size 720x360 with 1 Axes>"
      ]
     },
     "metadata": {},
     "output_type": "display_data"
    }
   ],
   "source": [
    "plt.figure(figsize=(10, 5))\n",
    "sns.countplot(x='SexuponOutcome', data=animalDf, palette='rainbow', hue='adoption')"
   ]
  },
  {
   "cell_type": "markdown",
   "metadata": {},
   "source": [
    "##### b. Perbandingan adopsi anjing per jenis kelamin"
   ]
  },
  {
   "cell_type": "code",
   "execution_count": 16,
   "metadata": {},
   "outputs": [
    {
     "data": {
      "text/plain": [
       "<matplotlib.axes._subplots.AxesSubplot at 0x1eeba06a470>"
      ]
     },
     "execution_count": 16,
     "metadata": {},
     "output_type": "execute_result"
    },
    {
     "data": {
      "image/png": "[encoded data removed]",
      "text/plain": [
       "<Figure size 720x360 with 1 Axes>"
      ]
     },
     "metadata": {},
     "output_type": "display_data"
    }
   ],
   "source": [
    "plt.figure(figsize=(10, 5))\n",
    "sns.countplot(x='SexuponOutcome', data=animalDf[(animalDf['AnimalType']=='Dog')], palette='rainbow', hue='adoption')"
   ]
  },
  {
   "cell_type": "markdown",
   "metadata": {},
   "source": [
    "##### b. Perbandingan adopsi kucing per jenis kelamin"
   ]
  },
  {
   "cell_type": "code",
   "execution_count": 17,
   "metadata": {},
   "outputs": [
    {
     "data": {
      "text/plain": [
       "<matplotlib.axes._subplots.AxesSubplot at 0x1eeb99678d0>"
      ]
     },
     "execution_count": 17,
     "metadata": {},
     "output_type": "execute_result"
    },
    {
     "data": {
      "image/png": "[encoded data removed]",
      "text/plain": [
       "<Figure size 720x360 with 1 Axes>"
      ]
     },
     "metadata": {},
     "output_type": "display_data"
    }
   ],
   "source": [
    "plt.figure(figsize=(10, 5))\n",
    "sns.countplot(x='SexuponOutcome', data=animalDf[(animalDf['AnimalType']=='Cat')], palette='rainbow', hue='adoption')"
   ]
  },
  {
   "cell_type": "markdown",
   "metadata": {},
   "source": [
    "Kesimpulan:\n",
    "- Hewan yang sudah disteril lebih banyak diadopsi (baik anjing maupun kucing)\n",
    "- Hewan yang belum disteril cenderung tidak diadopsi\n",
    "- Hewan yang tidak diketahui jenis kelaminnya tidak diadopsi"
   ]
  },
  {
   "cell_type": "markdown",
   "metadata": {},
   "source": [
    "### 5. Perbandingan adopsi per jenis breed"
   ]
  },
  {
   "cell_type": "markdown",
   "metadata": {},
   "source": [
    "##### a. Perbandingan adopsi per jenis breed (keseluruhan)"
   ]
  },
  {
   "cell_type": "code",
   "execution_count": 18,
   "metadata": {},
   "outputs": [
    {
     "data": {
      "text/plain": [
       "<matplotlib.axes._subplots.AxesSubplot at 0x1eeb98f57b8>"
      ]
     },
     "execution_count": 18,
     "metadata": {},
     "output_type": "execute_result"
    },
    {
     "data": {
      "image/png": "[encoded data removed]",
      "text/plain": [
       "<Figure size 720x360 with 1 Axes>"
      ]
     },
     "metadata": {},
     "output_type": "display_data"
    }
   ],
   "source": [
    "plt.figure(figsize=(10, 5))\n",
    "sns.countplot(x='nBreed', data=animalDf, palette='rainbow', hue='adoption')"
   ]
  },
  {
   "cell_type": "markdown",
   "metadata": {},
   "source": [
    "##### b. Perbandingan adopsi anjing per jenis breed"
   ]
  },
  {
   "cell_type": "code",
   "execution_count": 19,
   "metadata": {},
   "outputs": [
    {
     "data": {
      "text/plain": [
       "<matplotlib.axes._subplots.AxesSubplot at 0x1eeb97b8358>"
      ]
     },
     "execution_count": 19,
     "metadata": {},
     "output_type": "execute_result"
    },
    {
     "data": {
      "image/png": "[encoded data removed]",
      "text/plain": [
       "<Figure size 720x360 with 1 Axes>"
      ]
     },
     "metadata": {},
     "output_type": "display_data"
    }
   ],
   "source": [
    "plt.figure(figsize=(10, 5))\n",
    "sns.countplot(x='nBreed', data=animalDf[animalDf['AnimalType']=='Dog'], palette='rainbow', hue='adoption')"
   ]
  },
  {
   "cell_type": "markdown",
   "metadata": {},
   "source": [
    "##### c. Perbandingan adopsi kucing per jenis breed"
   ]
  },
  {
   "cell_type": "code",
   "execution_count": 20,
   "metadata": {},
   "outputs": [
    {
     "data": {
      "text/plain": [
       "<matplotlib.axes._subplots.AxesSubplot at 0x1eeb981e2b0>"
      ]
     },
     "execution_count": 20,
     "metadata": {},
     "output_type": "execute_result"
    },
    {
     "data": {
      "image/png": "[encoded data removed]",
      "text/plain": [
       "<Figure size 720x360 with 1 Axes>"
      ]
     },
     "metadata": {},
     "output_type": "display_data"
    }
   ],
   "source": [
    "plt.figure(figsize=(10, 5))\n",
    "sns.countplot(x='nBreed', data=animalDf[animalDf['AnimalType']=='Cat'], palette='rainbow', hue='adoption')"
   ]
  },
  {
   "cell_type": "markdown",
   "metadata": {},
   "source": [
    "Kesimpulan:\n",
    "- Jumlah hewan keturunan campuran berjumlah lebih banyak dan diadopsi lebih banyak juga dibandingkan dengan hewan keturunan murni (kucing maupun anjing)"
   ]
  },
  {
   "cell_type": "markdown",
   "metadata": {},
   "source": [
    "### 6. Breed anjing"
   ]
  },
  {
   "cell_type": "markdown",
   "metadata": {},
   "source": [
    "##### a. 5 Breed anjing terbanyak"
   ]
  },
  {
   "cell_type": "code",
   "execution_count": 21,
   "metadata": {},
   "outputs": [
    {
     "data": {
      "text/plain": [
       "<matplotlib.axes._subplots.AxesSubplot at 0x1eeb9878cc0>"
      ]
     },
     "execution_count": 21,
     "metadata": {},
     "output_type": "execute_result"
    },
    {
     "data": {
      "image/png": "[encoded data removed]",
      "text/plain": [
       "<Figure size 1080x360 with 1 Axes>"
      ]
     },
     "metadata": {},
     "output_type": "display_data"
    }
   ],
   "source": [
    "top5Dog = animalDf[animalDf['AnimalType']=='Dog'].groupby('Breed').count().sort_values('nBreed',axis=0,ascending=False).head(5).index.values\n",
    "\n",
    "plt.figure(figsize=(15, 5))\n",
    "sns.countplot(x='Breed', data=animalDf[(animalDf['Breed'].isin(top5Dog)) & (animalDf['AnimalType']=='Dog')], palette='rainbow', order=top5Dog)"
   ]
  },
  {
   "cell_type": "markdown",
   "metadata": {},
   "source": [
    "##### b. 5 Breed anjing yang paling banyak diadopsi"
   ]
  },
  {
   "cell_type": "code",
   "execution_count": 22,
   "metadata": {},
   "outputs": [
    {
     "data": {
      "text/plain": [
       "<matplotlib.axes._subplots.AxesSubplot at 0x1eeb99a1cc0>"
      ]
     },
     "execution_count": 22,
     "metadata": {},
     "output_type": "execute_result"
    },
    {
     "data": {
      "image/png": "[encoded data removed]",
      "text/plain": [
       "<Figure size 1080x360 with 1 Axes>"
      ]
     },
     "metadata": {},
     "output_type": "display_data"
    }
   ],
   "source": [
    "top5DogAdopt = animalDf[(animalDf['AnimalType']=='Dog') & (animalDf['adoption']==1)].groupby('Breed').count().sort_values('nBreed',axis=0,ascending=False).head(5).index.values\n",
    "\n",
    "plt.figure(figsize=(15, 5))\n",
    "sns.countplot(x='Breed', data=animalDf[(animalDf['Breed'].isin(top5DogAdopt)) & (animalDf['AnimalType']=='Dog') & (animalDf['adoption']==1)], palette='rainbow', order=top5DogAdopt)"
   ]
  },
  {
   "cell_type": "markdown",
   "metadata": {},
   "source": [
    "##### c. 5 Breed anjing yang paling banyak tidak diadopsi"
   ]
  },
  {
   "cell_type": "code",
   "execution_count": 23,
   "metadata": {},
   "outputs": [
    {
     "data": {
      "text/plain": [
       "<matplotlib.axes._subplots.AxesSubplot at 0x1eeba3d8a58>"
      ]
     },
     "execution_count": 23,
     "metadata": {},
     "output_type": "execute_result"
    },
    {
     "data": {
      "image/png": "[encoded data removed]",
      "text/plain": [
       "<Figure size 1080x360 with 1 Axes>"
      ]
     },
     "metadata": {},
     "output_type": "display_data"
    }
   ],
   "source": [
    "top5DogNotAdopt = animalDf[(animalDf['AnimalType']=='Dog') & (animalDf['adoption']==0)].groupby('Breed').count().sort_values('nBreed',axis=0,ascending=False).head(5).index.values\n",
    "\n",
    "plt.figure(figsize=(15, 5))\n",
    "sns.countplot(x='Breed', data=animalDf[(animalDf['Breed'].isin(top5DogNotAdopt)) & (animalDf['AnimalType']=='Dog') & (animalDf['adoption']==0)], palette='rainbow', order=top5DogNotAdopt)"
   ]
  },
  {
   "cell_type": "markdown",
   "metadata": {},
   "source": [
    "### 7. Breed kucing"
   ]
  },
  {
   "cell_type": "markdown",
   "metadata": {},
   "source": [
    "##### a. 5 Breed kucing terbanyak"
   ]
  },
  {
   "cell_type": "code",
   "execution_count": 24,
   "metadata": {},
   "outputs": [
    {
     "data": {
      "text/plain": [
       "<matplotlib.axes._subplots.AxesSubplot at 0x1eeba142630>"
      ]
     },
     "execution_count": 24,
     "metadata": {},
     "output_type": "execute_result"
    },
    {
     "data": {
      "image/png": "[encoded data removed]",
      "text/plain": [
       "<Figure size 1080x360 with 1 Axes>"
      ]
     },
     "metadata": {},
     "output_type": "display_data"
    }
   ],
   "source": [
    "top5Cat = animalDf[animalDf['AnimalType']=='Cat'].groupby('Breed').count().sort_values('nBreed',axis=0,ascending=False).head(5).index.values\n",
    "\n",
    "plt.figure(figsize=(15, 5))\n",
    "sns.countplot(x='Breed', data=animalDf[(animalDf['Breed'].isin(top5Cat)) & (animalDf['AnimalType']=='Cat')], palette='rainbow', order=top5Cat)"
   ]
  },
  {
   "cell_type": "markdown",
   "metadata": {},
   "source": [
    "##### b. 5 breed kucing yang paling banyak diadopsi"
   ]
  },
  {
   "cell_type": "code",
   "execution_count": 25,
   "metadata": {
    "scrolled": true
   },
   "outputs": [
    {
     "data": {
      "text/plain": [
       "<matplotlib.axes._subplots.AxesSubplot at 0x1eebab22160>"
      ]
     },
     "execution_count": 25,
     "metadata": {},
     "output_type": "execute_result"
    },
    {
     "data": {
      "image/png": "[encoded data removed]",
      "text/plain": [
       "<Figure size 1080x360 with 1 Axes>"
      ]
     },
     "metadata": {},
     "output_type": "display_data"
    }
   ],
   "source": [
    "top5CatAdopt = animalDf[(animalDf['AnimalType']=='Cat') & (animalDf['adoption']==1)].groupby('Breed').count().sort_values('nBreed',axis=0,ascending=False).head(5).index.values\n",
    "\n",
    "plt.figure(figsize=(15, 5))\n",
    "sns.countplot(x='Breed', data=animalDf[(animalDf['Breed'].isin(top5CatAdopt)) & (animalDf['AnimalType']=='Cat') & (animalDf['adoption']==1)], palette='rainbow', order=top5CatAdopt)"
   ]
  },
  {
   "cell_type": "markdown",
   "metadata": {},
   "source": [
    "##### c. 5 Breed kucing yang paling banyak tidak diadopsi"
   ]
  },
  {
   "cell_type": "code",
   "execution_count": 26,
   "metadata": {},
   "outputs": [
    {
     "data": {
      "text/plain": [
       "<matplotlib.axes._subplots.AxesSubplot at 0x1eeba9af4e0>"
      ]
     },
     "execution_count": 26,
     "metadata": {},
     "output_type": "execute_result"
    },
    {
     "data": {
      "image/png": "[encoded data removed]",
      "text/plain": [
       "<Figure size 1080x360 with 1 Axes>"
      ]
     },
     "metadata": {},
     "output_type": "display_data"
    }
   ],
   "source": [
    "top5CatNotAdopt = animalDf[(animalDf['AnimalType']=='Cat') & (animalDf['adoption']==0)].groupby('Breed').count().sort_values('nBreed',axis=0,ascending=False).head(5).index.values\n",
    "\n",
    "plt.figure(figsize=(15, 5))\n",
    "sns.countplot(x='Breed', data=animalDf[(animalDf['Breed'].isin(top5CatNotAdopt)) & (animalDf['AnimalType']=='Cat') & (animalDf['adoption']==0)], palette='rainbow', order=top5CatNotAdopt)"
   ]
  },
  {
   "cell_type": "code",
   "execution_count": 27,
   "metadata": {},
   "outputs": [],
   "source": [
    "animalDf.drop('nBreed', axis=1, inplace=True)"
   ]
  },
  {
   "cell_type": "markdown",
   "metadata": {},
   "source": [
    "### 6. Umur anjing (hitungan hari)"
   ]
  },
  {
   "cell_type": "markdown",
   "metadata": {},
   "source": [
    "##### a. Perbandingan jumlah anjing per umur"
   ]
  },
  {
   "cell_type": "code",
   "execution_count": 28,
   "metadata": {
    "scrolled": false
   },
   "outputs": [
    {
     "data": {
      "text/plain": [
       "<matplotlib.axes._subplots.AxesSubplot at 0x1eebab8b7f0>"
      ]
     },
     "execution_count": 28,
     "metadata": {},
     "output_type": "execute_result"
    },
    {
     "data": {
      "image/png": "[encoded data removed]",
      "text/plain": [
       "<Figure size 1728x360 with 1 Axes>"
      ]
     },
     "metadata": {},
     "output_type": "display_data"
    }
   ],
   "source": [
    "plt.figure(figsize=(24,5))\n",
    "sns.countplot(x='Ages', data=animalDf[animalDf['AnimalType']=='Dog'], palette='rainbow')"
   ]
  },
  {
   "cell_type": "markdown",
   "metadata": {},
   "source": [
    "##### b. Perbandingan jumlah anjing yang diadopsi per umur"
   ]
  },
  {
   "cell_type": "code",
   "execution_count": 29,
   "metadata": {},
   "outputs": [
    {
     "data": {
      "text/plain": [
       "<matplotlib.axes._subplots.AxesSubplot at 0x1eeb99a16d8>"
      ]
     },
     "execution_count": 29,
     "metadata": {},
     "output_type": "execute_result"
    },
    {
     "data": {
      "image/png": "[encoded data removed]",
      "text/plain": [
       "<Figure size 1728x360 with 1 Axes>"
      ]
     },
     "metadata": {},
     "output_type": "display_data"
    }
   ],
   "source": [
    "plt.figure(figsize=(24,5))\n",
    "sns.countplot(x='Ages', data=animalDf[(animalDf['AnimalType']=='Dog') & (animalDf['adoption']==1)], palette='rainbow')"
   ]
  },
  {
   "cell_type": "markdown",
   "metadata": {},
   "source": [
    "##### c. Perbandingan jumlah anjing yang tidak diadopsi per umur"
   ]
  },
  {
   "cell_type": "code",
   "execution_count": 30,
   "metadata": {
    "scrolled": true
   },
   "outputs": [
    {
     "data": {
      "text/plain": [
       "<matplotlib.axes._subplots.AxesSubplot at 0x1eeba4b41d0>"
      ]
     },
     "execution_count": 30,
     "metadata": {},
     "output_type": "execute_result"
    },
    {
     "data": {
      "image/png": "[encoded data removed]",
      "text/plain": [
       "<Figure size 1728x360 with 1 Axes>"
      ]
     },
     "metadata": {},
     "output_type": "display_data"
    }
   ],
   "source": [
    "plt.figure(figsize=(24,5))\n",
    "sns.countplot(x='Ages', data=animalDf[(animalDf['AnimalType']=='Dog') & (animalDf['adoption']==0)], palette='rainbow')"
   ]
  },
  {
   "cell_type": "markdown",
   "metadata": {},
   "source": [
    "Kesimpulan:\n",
    "- Range umur anjing dari umur 0 - 6935 hari\n",
    "- Umur anjing paling banyak ada di range 365 - 1095 hari \n",
    "- Umur anjing yang paling banyak diadopsi: 60, 365, 730 hari"
   ]
  },
  {
   "cell_type": "markdown",
   "metadata": {},
   "source": [
    "### 7. Umur kucing (hitungan hari)"
   ]
  },
  {
   "cell_type": "markdown",
   "metadata": {},
   "source": [
    "##### a. Perbandingan jumlah kucing per umur"
   ]
  },
  {
   "cell_type": "code",
   "execution_count": 31,
   "metadata": {
    "scrolled": false
   },
   "outputs": [
    {
     "data": {
      "text/plain": [
       "<matplotlib.axes._subplots.AxesSubplot at 0x1eeba54c550>"
      ]
     },
     "execution_count": 31,
     "metadata": {},
     "output_type": "execute_result"
    },
    {
     "data": {
      "image/png": "[encoded data removed]",
      "text/plain": [
       "<Figure size 1728x360 with 1 Axes>"
      ]
     },
     "metadata": {},
     "output_type": "display_data"
    }
   ],
   "source": [
    "plt.figure(figsize=(24,5))\n",
    "sns.countplot(x='Ages', data=animalDf[animalDf['AnimalType']=='Cat'], palette='rainbow')"
   ]
  },
  {
   "cell_type": "markdown",
   "metadata": {},
   "source": [
    "##### b. Perbandingan jumlah kucing yang diadopsi per umur"
   ]
  },
  {
   "cell_type": "code",
   "execution_count": 32,
   "metadata": {},
   "outputs": [
    {
     "data": {
      "text/plain": [
       "<matplotlib.axes._subplots.AxesSubplot at 0x1eeba4a3898>"
      ]
     },
     "execution_count": 32,
     "metadata": {},
     "output_type": "execute_result"
    },
    {
     "data": {
      "image/png": "[encoded data removed]",
      "text/plain": [
       "<Figure size 1728x360 with 1 Axes>"
      ]
     },
     "metadata": {},
     "output_type": "display_data"
    }
   ],
   "source": [
    "plt.figure(figsize=(24,5))\n",
    "sns.countplot(x='Ages', data=animalDf[(animalDf['AnimalType']=='Cat') & (animalDf['adoption']==1)], palette='rainbow')"
   ]
  },
  {
   "cell_type": "markdown",
   "metadata": {},
   "source": [
    "##### c. Perbandingan jumlah kucing yang tidak diadopsi per umur"
   ]
  },
  {
   "cell_type": "code",
   "execution_count": 33,
   "metadata": {
    "scrolled": false
   },
   "outputs": [
    {
     "data": {
      "text/plain": [
       "<matplotlib.axes._subplots.AxesSubplot at 0x1eebd36db00>"
      ]
     },
     "execution_count": 33,
     "metadata": {},
     "output_type": "execute_result"
    },
    {
     "data": {
      "image/png": "[encoded data removed]",
      "text/plain": [
       "<Figure size 1728x360 with 1 Axes>"
      ]
     },
     "metadata": {},
     "output_type": "display_data"
    }
   ],
   "source": [
    "plt.figure(figsize=(24,5))\n",
    "sns.countplot(x='Ages', data=animalDf[(animalDf['AnimalType']=='Cat') & (animalDf['adoption']==0)], palette='rainbow')"
   ]
  },
  {
   "cell_type": "markdown",
   "metadata": {},
   "source": [
    "Kesimpulan:\n",
    "- Range umur kucing dari umur 0 - 7300 hari\n",
    "- Umur kucing paling banyak ada di umur 60, 365 dan 730 hari\n",
    "- Umur kucing yang paling banyak diadopsi: 60, 90 hari\n",
    "- Umur kucing yang jarang diadopsi: 365, 730 hari"
   ]
  },
  {
   "cell_type": "markdown",
   "metadata": {},
   "source": [
    "### 8. Warna anjing"
   ]
  },
  {
   "cell_type": "markdown",
   "metadata": {},
   "source": [
    "##### a. 5 warna anjing terbanyak"
   ]
  },
  {
   "cell_type": "code",
   "execution_count": 34,
   "metadata": {},
   "outputs": [
    {
     "data": {
      "text/plain": [
       "<matplotlib.axes._subplots.AxesSubplot at 0x1eebd92a080>"
      ]
     },
     "execution_count": 34,
     "metadata": {},
     "output_type": "execute_result"
    },
    {
     "data": {
      "image/png": "[encoded data removed]",
      "text/plain": [
       "<Figure size 1080x360 with 1 Axes>"
      ]
     },
     "metadata": {},
     "output_type": "display_data"
    }
   ],
   "source": [
    "top5 = animalDf[animalDf['AnimalType']=='Dog'].groupby('Color').count().sort_values('Breed',axis=0,ascending=False).head(5).index.values\n",
    "\n",
    "plt.figure(figsize=(15, 5))\n",
    "sns.countplot(x='Color', data=animalDf[(animalDf['Color'].isin(top5)) & (animalDf['AnimalType']=='Dog')], palette='rainbow', order=top5)"
   ]
  },
  {
   "cell_type": "markdown",
   "metadata": {},
   "source": [
    "##### b. 5 warna anjing yang paling banyak diadopsi"
   ]
  },
  {
   "cell_type": "code",
   "execution_count": 35,
   "metadata": {},
   "outputs": [
    {
     "data": {
      "text/plain": [
       "<matplotlib.axes._subplots.AxesSubplot at 0x1eebe060d68>"
      ]
     },
     "execution_count": 35,
     "metadata": {},
     "output_type": "execute_result"
    },
    {
     "data": {
      "image/png": "[encoded data removed]",
      "text/plain": [
       "<Figure size 1080x360 with 1 Axes>"
      ]
     },
     "metadata": {},
     "output_type": "display_data"
    }
   ],
   "source": [
    "top5 = animalDf[(animalDf['AnimalType']=='Dog') & (animalDf['adoption']==1)].groupby('Color').count().sort_values('Breed',axis=0,ascending=False).head(5).index.values\n",
    "\n",
    "plt.figure(figsize=(15, 5))\n",
    "sns.countplot(x='Color', data=animalDf[(animalDf['Color'].isin(top5)) & (animalDf['AnimalType']=='Dog') & (animalDf['adoption']==1)], palette='rainbow', order=top5)"
   ]
  },
  {
   "cell_type": "markdown",
   "metadata": {},
   "source": [
    "##### c. 5 warna anjing yang paling banyak tidak diadopsi"
   ]
  },
  {
   "cell_type": "code",
   "execution_count": 36,
   "metadata": {
    "scrolled": true
   },
   "outputs": [
    {
     "data": {
      "text/plain": [
       "<matplotlib.axes._subplots.AxesSubplot at 0x1eebdefb908>"
      ]
     },
     "execution_count": 36,
     "metadata": {},
     "output_type": "execute_result"
    },
    {
     "data": {
      "image/png": "[encoded data removed]",
      "text/plain": [
       "<Figure size 1080x360 with 1 Axes>"
      ]
     },
     "metadata": {},
     "output_type": "display_data"
    }
   ],
   "source": [
    "top5 = animalDf[(animalDf['AnimalType']=='Dog') & (animalDf['adoption']==0)].groupby('Color').count().sort_values('Breed',axis=0,ascending=False).head(5).index.values\n",
    "\n",
    "plt.figure(figsize=(15, 5))\n",
    "sns.countplot(x='Color', data=animalDf[(animalDf['Color'].isin(top5)) & (animalDf['AnimalType']=='Dog') & (animalDf['adoption']==0)], palette='rainbow', order=top5)"
   ]
  },
  {
   "cell_type": "markdown",
   "metadata": {},
   "source": [
    "### 9. Warna kucing"
   ]
  },
  {
   "cell_type": "markdown",
   "metadata": {},
   "source": [
    "##### a. 5 warna kucing terbanyak"
   ]
  },
  {
   "cell_type": "code",
   "execution_count": 37,
   "metadata": {},
   "outputs": [
    {
     "data": {
      "text/plain": [
       "<matplotlib.axes._subplots.AxesSubplot at 0x1eebe0deda0>"
      ]
     },
     "execution_count": 37,
     "metadata": {},
     "output_type": "execute_result"
    },
    {
     "data": {
      "image/png": "[encoded data removed]",
      "text/plain": [
       "<Figure size 1080x360 with 1 Axes>"
      ]
     },
     "metadata": {},
     "output_type": "display_data"
    }
   ],
   "source": [
    "top5 = animalDf[animalDf['AnimalType']=='Cat'].groupby('Color').count().sort_values('Breed',axis=0,ascending=False).head(5).index.values\n",
    "\n",
    "plt.figure(figsize=(15, 5))\n",
    "sns.countplot(x='Color', data=animalDf[(animalDf['Color'].isin(top5)) & (animalDf['AnimalType']=='Cat')], palette='rainbow', order=top5)"
   ]
  },
  {
   "cell_type": "markdown",
   "metadata": {},
   "source": [
    "##### b. 5 warna kucing yang paling banyak diadopsi"
   ]
  },
  {
   "cell_type": "code",
   "execution_count": 38,
   "metadata": {},
   "outputs": [
    {
     "data": {
      "text/plain": [
       "<matplotlib.axes._subplots.AxesSubplot at 0x1eebe2c7438>"
      ]
     },
     "execution_count": 38,
     "metadata": {},
     "output_type": "execute_result"
    },
    {
     "data": {
      "image/png": "[encoded data removed]",
      "text/plain": [
       "<Figure size 1080x360 with 1 Axes>"
      ]
     },
     "metadata": {},
     "output_type": "display_data"
    }
   ],
   "source": [
    "top5 = animalDf[(animalDf['AnimalType']=='Cat') & (animalDf['adoption']==1)].groupby('Color').count().sort_values('Breed',axis=0,ascending=False).head(5).index.values\n",
    "\n",
    "plt.figure(figsize=(15, 5))\n",
    "sns.countplot(x='Color', data=animalDf[(animalDf['Color'].isin(top5)) & (animalDf['AnimalType']=='Cat') & (animalDf['adoption']==1)], palette='rainbow', order=top5)"
   ]
  },
  {
   "cell_type": "markdown",
   "metadata": {},
   "source": [
    "##### c. 5 warna kucing yang paling banyak tidak diadopsi"
   ]
  },
  {
   "cell_type": "code",
   "execution_count": 39,
   "metadata": {
    "scrolled": true
   },
   "outputs": [
    {
     "data": {
      "text/plain": [
       "<matplotlib.axes._subplots.AxesSubplot at 0x1eebe732710>"
      ]
     },
     "execution_count": 39,
     "metadata": {},
     "output_type": "execute_result"
    },
    {
     "data": {
      "image/png": "[encoded data removed]",
      "text/plain": [
       "<Figure size 1080x360 with 1 Axes>"
      ]
     },
     "metadata": {},
     "output_type": "display_data"
    }
   ],
   "source": [
    "top5 = animalDf[(animalDf['AnimalType']=='Cat') & (animalDf['adoption']==0)].groupby('Color').count().sort_values('Breed',axis=0,ascending=False).head(5).index.values\n",
    "\n",
    "plt.figure(figsize=(15, 5))\n",
    "sns.countplot(x='Color', data=animalDf[(animalDf['Color'].isin(top5)) & (animalDf['AnimalType']=='Cat') & (animalDf['adoption']==0)], palette='rainbow', order=top5)"
   ]
  },
  {
   "cell_type": "code",
   "execution_count": 40,
   "metadata": {},
   "outputs": [
    {
     "data": {
      "text/html": [
       "<div>\n",
       "<style scoped>\n",
       "    .dataframe tbody tr th:only-of-type {\n",
       "        vertical-align: middle;\n",
       "    }\n",
       "\n",
       "    .dataframe tbody tr th {\n",
       "        vertical-align: top;\n",
       "    }\n",
       "\n",
       "    .dataframe thead th {\n",
       "        text-align: right;\n",
       "    }\n",
       "</style>\n",
       "<table border=\"1\" class=\"dataframe\">\n",
       "  <thead>\n",
       "    <tr style=\"text-align: right;\">\n",
       "      <th></th>\n",
       "      <th>DateTime</th>\n",
       "      <th>OutcomeType</th>\n",
       "      <th>AnimalType</th>\n",
       "      <th>SexuponOutcome</th>\n",
       "      <th>Breed</th>\n",
       "      <th>Color</th>\n",
       "      <th>adoption</th>\n",
       "      <th>month</th>\n",
       "      <th>Ages</th>\n",
       "    </tr>\n",
       "  </thead>\n",
       "  <tbody>\n",
       "    <tr>\n",
       "      <th>0</th>\n",
       "      <td>2014-02-12 18:22:00</td>\n",
       "      <td>Return_to_owner</td>\n",
       "      <td>Dog</td>\n",
       "      <td>Neutered Male</td>\n",
       "      <td>Shetland Sheepdog Mix</td>\n",
       "      <td>Brown/White</td>\n",
       "      <td>0</td>\n",
       "      <td>2</td>\n",
       "      <td>365</td>\n",
       "    </tr>\n",
       "    <tr>\n",
       "      <th>1</th>\n",
       "      <td>2013-10-13 12:44:00</td>\n",
       "      <td>Euthanasia</td>\n",
       "      <td>Cat</td>\n",
       "      <td>Spayed Female</td>\n",
       "      <td>Domestic Shorthair Mix</td>\n",
       "      <td>Cream Tabby</td>\n",
       "      <td>0</td>\n",
       "      <td>10</td>\n",
       "      <td>365</td>\n",
       "    </tr>\n",
       "  </tbody>\n",
       "</table>\n",
       "</div>"
      ],
      "text/plain": [
       "              DateTime      OutcomeType AnimalType SexuponOutcome  \\\n",
       "0  2014-02-12 18:22:00  Return_to_owner        Dog  Neutered Male   \n",
       "1  2013-10-13 12:44:00       Euthanasia        Cat  Spayed Female   \n",
       "\n",
       "                    Breed        Color  adoption  month  Ages  \n",
       "0   Shetland Sheepdog Mix  Brown/White         0      2   365  \n",
       "1  Domestic Shorthair Mix  Cream Tabby         0     10   365  "
      ]
     },
     "execution_count": 40,
     "metadata": {},
     "output_type": "execute_result"
    }
   ],
   "source": [
    "animalDf.head(2)"
   ]
  },
  {
   "cell_type": "markdown",
   "metadata": {},
   "source": [
    "## Feature Engineering"
   ]
  },
  {
   "cell_type": "code",
   "execution_count": 41,
   "metadata": {},
   "outputs": [],
   "source": [
    "from sklearn import preprocessing\n",
    "le = preprocessing.LabelEncoder()"
   ]
  },
  {
   "cell_type": "code",
   "execution_count": 42,
   "metadata": {},
   "outputs": [],
   "source": [
    "leSex = le.fit_transform(animalDf['SexuponOutcome'])\n",
    "\n",
    "animalDf.drop(['SexuponOutcome'],axis=1,inplace=True)\n",
    "animalDf['nSex'] = leSex"
   ]
  },
  {
   "cell_type": "code",
   "execution_count": 43,
   "metadata": {},
   "outputs": [],
   "source": [
    "AnimalType = pd.get_dummies(animalDf['AnimalType'],drop_first=True)\n",
    "animalDf.drop(['AnimalType'],axis=1,inplace=True)\n",
    "animalDf = pd.concat([animalDf,AnimalType],axis=1)"
   ]
  },
  {
   "cell_type": "code",
   "execution_count": 44,
   "metadata": {},
   "outputs": [],
   "source": [
    "leColor = le.fit_transform(animalDf['Color'])\n",
    "\n",
    "animalDf.drop(['Color'],axis=1,inplace=True)\n",
    "animalDf['nColor'] = leColor"
   ]
  },
  {
   "cell_type": "code",
   "execution_count": 45,
   "metadata": {},
   "outputs": [],
   "source": [
    "leBreed = le.fit_transform(animalDf['Breed'])\n",
    "\n",
    "animalDf.drop(['Breed'],axis=1,inplace=True)\n",
    "animalDf['nBreed'] = leBreed"
   ]
  },
  {
   "cell_type": "code",
   "execution_count": 46,
   "metadata": {},
   "outputs": [],
   "source": [
    "# month = pd.get_dummies(animalDf['month'],drop_first=True)\n",
    "# animalDf.drop(['month'],axis=1,inplace=True)\n",
    "# animalDf = pd.concat([animalDf,month],axis=1)"
   ]
  },
  {
   "cell_type": "code",
   "execution_count": 47,
   "metadata": {
    "scrolled": true
   },
   "outputs": [
    {
     "data": {
      "text/html": [
       "<div>\n",
       "<style scoped>\n",
       "    .dataframe tbody tr th:only-of-type {\n",
       "        vertical-align: middle;\n",
       "    }\n",
       "\n",
       "    .dataframe tbody tr th {\n",
       "        vertical-align: top;\n",
       "    }\n",
       "\n",
       "    .dataframe thead th {\n",
       "        text-align: right;\n",
       "    }\n",
       "</style>\n",
       "<table border=\"1\" class=\"dataframe\">\n",
       "  <thead>\n",
       "    <tr style=\"text-align: right;\">\n",
       "      <th></th>\n",
       "      <th>DateTime</th>\n",
       "      <th>OutcomeType</th>\n",
       "      <th>adoption</th>\n",
       "      <th>month</th>\n",
       "      <th>Ages</th>\n",
       "      <th>nSex</th>\n",
       "      <th>Dog</th>\n",
       "      <th>nColor</th>\n",
       "      <th>nBreed</th>\n",
       "    </tr>\n",
       "  </thead>\n",
       "  <tbody>\n",
       "    <tr>\n",
       "      <th>0</th>\n",
       "      <td>2014-02-12 18:22:00</td>\n",
       "      <td>Return_to_owner</td>\n",
       "      <td>0</td>\n",
       "      <td>2</td>\n",
       "      <td>365</td>\n",
       "      <td>2</td>\n",
       "      <td>1</td>\n",
       "      <td>130</td>\n",
       "      <td>1221</td>\n",
       "    </tr>\n",
       "    <tr>\n",
       "      <th>1</th>\n",
       "      <td>2013-10-13 12:44:00</td>\n",
       "      <td>Euthanasia</td>\n",
       "      <td>0</td>\n",
       "      <td>10</td>\n",
       "      <td>365</td>\n",
       "      <td>3</td>\n",
       "      <td>0</td>\n",
       "      <td>167</td>\n",
       "      <td>640</td>\n",
       "    </tr>\n",
       "  </tbody>\n",
       "</table>\n",
       "</div>"
      ],
      "text/plain": [
       "              DateTime      OutcomeType  adoption  month  Ages  nSex  Dog  \\\n",
       "0  2014-02-12 18:22:00  Return_to_owner         0      2   365     2    1   \n",
       "1  2013-10-13 12:44:00       Euthanasia         0     10   365     3    0   \n",
       "\n",
       "   nColor  nBreed  \n",
       "0     130    1221  \n",
       "1     167     640  "
      ]
     },
     "execution_count": 47,
     "metadata": {},
     "output_type": "execute_result"
    }
   ],
   "source": [
    "animalDf.head(2)"
   ]
  },
  {
   "cell_type": "markdown",
   "metadata": {},
   "source": [
    "# Machine Learning"
   ]
  },
  {
   "cell_type": "markdown",
   "metadata": {},
   "source": [
    "## Train Test Split"
   ]
  },
  {
   "cell_type": "code",
   "execution_count": 48,
   "metadata": {},
   "outputs": [],
   "source": [
    "from sklearn.model_selection import train_test_split\n",
    "from imblearn.over_sampling import RandomOverSampler, SMOTE\n",
    "from sklearn.metrics import classification_report, matthews_corrcoef, roc_auc_score, confusion_matrix, accuracy_score"
   ]
  },
  {
   "cell_type": "code",
   "execution_count": 49,
   "metadata": {},
   "outputs": [],
   "source": [
    "trainDf = animalDf.copy()\n",
    "trainDf.sort_values(by='DateTime')\n",
    "trainDf.drop(['OutcomeType', 'DateTime'], axis=1, inplace=True)"
   ]
  },
  {
   "cell_type": "code",
   "execution_count": 50,
   "metadata": {},
   "outputs": [],
   "source": [
    "X = trainDf.drop(['adoption'], axis=1)\n",
    "y = trainDf['adoption']\n",
    "\n",
    "X_train, X_test, y_train, y_test = train_test_split(X, y, test_size=0.30)"
   ]
  },
  {
   "cell_type": "markdown",
   "metadata": {},
   "source": [
    "## Random Over Sampler"
   ]
  },
  {
   "cell_type": "code",
   "execution_count": 51,
   "metadata": {},
   "outputs": [
    {
     "data": {
      "text/plain": [
       "0    22365\n",
       "1    15029\n",
       "Name: adoption, dtype: int64"
      ]
     },
     "execution_count": 51,
     "metadata": {},
     "output_type": "execute_result"
    }
   ],
   "source": [
    "pd.Series(y_train).value_counts()"
   ]
  },
  {
   "cell_type": "code",
   "execution_count": 52,
   "metadata": {},
   "outputs": [],
   "source": [
    "ros = RandomOverSampler(random_state=101)\n",
    "X_ros, y_ros = ros.fit_sample(X_train, y_train)"
   ]
  },
  {
   "cell_type": "code",
   "execution_count": 53,
   "metadata": {},
   "outputs": [
    {
     "data": {
      "text/plain": [
       "1    22365\n",
       "0    22365\n",
       "dtype: int64"
      ]
     },
     "execution_count": 53,
     "metadata": {},
     "output_type": "execute_result"
    }
   ],
   "source": [
    "pd.Series(y_ros).value_counts()"
   ]
  },
  {
   "cell_type": "markdown",
   "metadata": {},
   "source": [
    "## 1. Random Forest Classifier"
   ]
  },
  {
   "cell_type": "code",
   "execution_count": 54,
   "metadata": {},
   "outputs": [],
   "source": [
    "from sklearn.ensemble import RandomForestClassifier\n",
    "from sklearn.metrics import classification_report, matthews_corrcoef, roc_auc_score, confusion_matrix, accuracy_score\n",
    "from sklearn.model_selection import GridSearchCV"
   ]
  },
  {
   "cell_type": "markdown",
   "metadata": {},
   "source": [
    "### Train Model"
   ]
  },
  {
   "cell_type": "code",
   "execution_count": 55,
   "metadata": {},
   "outputs": [],
   "source": [
    "rfc = RandomForestClassifier(n_estimators=100)\n",
    "rfc.fit(X_ros, y_ros)\n",
    "rfc_pred = rfc.predict(X_test)\n",
    "rfc_predictProba=rfc.predict_proba(X_test)"
   ]
  },
  {
   "cell_type": "code",
   "execution_count": 56,
   "metadata": {},
   "outputs": [
    {
     "name": "stdout",
     "output_type": "stream",
     "text": [
      "            Prediction No  Prediction Yes\n",
      "Actual No            8534             983\n",
      "Actual Yes            833            5676\n",
      "\n",
      "\n",
      "              precision    recall  f1-score   support\n",
      "\n",
      "           0       0.91      0.90      0.90      9517\n",
      "           1       0.85      0.87      0.86      6509\n",
      "\n",
      "   micro avg       0.89      0.89      0.89     16026\n",
      "   macro avg       0.88      0.88      0.88     16026\n",
      "weighted avg       0.89      0.89      0.89     16026\n",
      "\n",
      "Matthews corrcoef: 0.766088204398988\n",
      "ROC Score: 0.9484054885539058\n",
      "Accuracy Score: 0.8866841382753027\n"
     ]
    }
   ],
   "source": [
    "con = pd.DataFrame(data=confusion_matrix(y_test, rfc_pred), columns=['Prediction No', 'Prediction Yes'], index=['Actual No', 'Actual Yes'])\n",
    "print(con)\n",
    "print('\\n')\n",
    "\n",
    "print(classification_report(y_test, rfc_pred))\n",
    "print('Matthews corrcoef:', matthews_corrcoef(y_test, rfc_pred))\n",
    "print('ROC Score:', roc_auc_score(y_test, rfc_predictProba[:,1]))\n",
    "print('Accuracy Score:', accuracy_score(y_test,rfc_pred))"
   ]
  },
  {
   "cell_type": "code",
   "execution_count": 57,
   "metadata": {},
   "outputs": [],
   "source": [
    "rfc_pred_ros = rfc.predict(X_ros)\n",
    "rfc_predictProba_ros=rfc.predict_proba(X_ros)"
   ]
  },
  {
   "cell_type": "code",
   "execution_count": 58,
   "metadata": {
    "scrolled": true
   },
   "outputs": [
    {
     "name": "stdout",
     "output_type": "stream",
     "text": [
      "            Prediction No  Prediction Yes\n",
      "Actual No           21460             905\n",
      "Actual Yes            420           21945\n",
      "\n",
      "\n",
      "              precision    recall  f1-score   support\n",
      "\n",
      "           0       0.98      0.96      0.97     22365\n",
      "           1       0.96      0.98      0.97     22365\n",
      "\n",
      "   micro avg       0.97      0.97      0.97     44730\n",
      "   macro avg       0.97      0.97      0.97     44730\n",
      "weighted avg       0.97      0.97      0.97     44730\n",
      "\n",
      "Matthews corrcoef: 0.9409769267928133\n",
      "ROC Score: 0.9964141257610997\n",
      "Accuracy Score: 0.9703778224904985\n"
     ]
    }
   ],
   "source": [
    "con = pd.DataFrame(data=confusion_matrix(y_ros, rfc_pred_ros), columns=['Prediction No', 'Prediction Yes'], index=['Actual No', 'Actual Yes'])\n",
    "print(con)\n",
    "print('\\n')\n",
    "\n",
    "print(classification_report(y_ros, rfc_pred_ros))\n",
    "print('Matthews corrcoef:', matthews_corrcoef(y_ros, rfc_pred_ros))\n",
    "print('ROC Score:', roc_auc_score(y_ros, rfc_predictProba_ros[:,1]))\n",
    "print('Accuracy Score:', accuracy_score(y_ros,rfc_pred_ros))"
   ]
  },
  {
   "cell_type": "code",
   "execution_count": 59,
   "metadata": {},
   "outputs": [
    {
     "data": {
      "image/png": "[encoded data removed]",
      "text/plain": [
       "<Figure size 720x360 with 1 Axes>"
      ]
     },
     "metadata": {},
     "output_type": "display_data"
    }
   ],
   "source": [
    "feature_importance = rfc.feature_importances_\n",
    "feature_importance = 100.0 * (feature_importance/feature_importance.max())\n",
    "sorted_idx = np.argsort(feature_importance)\n",
    "pos = np.arange(sorted_idx.shape[0]) + .5\n",
    "plt.figure(figsize=[10,5])\n",
    "plt.subplot(1,2,2)\n",
    "plt.barh(pos, feature_importance[sorted_idx], align='center')\n",
    "\n",
    "plt.yticks(pos, X_train.columns.values[sorted_idx])\n",
    "# plt.xlabel('Realtive Importance')\n",
    "plt.title('Variable Importance')\n",
    "plt.show()"
   ]
  },
  {
   "cell_type": "markdown",
   "metadata": {},
   "source": [
    "## 2. K Nearest Neighbors Classifier"
   ]
  },
  {
   "cell_type": "markdown",
   "metadata": {},
   "source": [
    "### Train Model"
   ]
  },
  {
   "cell_type": "code",
   "execution_count": 60,
   "metadata": {},
   "outputs": [],
   "source": [
    "from sklearn.neighbors import KNeighborsClassifier"
   ]
  },
  {
   "cell_type": "code",
   "execution_count": 61,
   "metadata": {},
   "outputs": [],
   "source": [
    "knn = KNeighborsClassifier(n_neighbors=35)\n",
    "knn.fit(X_ros,y_ros)\n",
    "knn_pred = knn.predict(X_test)\n",
    "knn_predictProba = knn.predict_proba(X_test)"
   ]
  },
  {
   "cell_type": "code",
   "execution_count": 62,
   "metadata": {},
   "outputs": [
    {
     "name": "stdout",
     "output_type": "stream",
     "text": [
      "            Prediction No  Prediction Yes\n",
      "Actual No            6223            3294\n",
      "Actual Yes           1925            4584\n",
      "\n",
      "\n",
      "              precision    recall  f1-score   support\n",
      "\n",
      "           0       0.76      0.65      0.70      9517\n",
      "           1       0.58      0.70      0.64      6509\n",
      "\n",
      "   micro avg       0.67      0.67      0.67     16026\n",
      "   macro avg       0.67      0.68      0.67     16026\n",
      "weighted avg       0.69      0.67      0.68     16026\n",
      "\n",
      "Matthews Corrcoef: 0.35182304626636385\n",
      "ROC Score: 0.7592948669467819\n",
      "Accuracy Score: 0.6743416947460377\n"
     ]
    }
   ],
   "source": [
    "con = pd.DataFrame(data=confusion_matrix(y_test, knn_pred), columns=['Prediction No', 'Prediction Yes'], index=['Actual No', 'Actual Yes'])\n",
    "print(con)\n",
    "print('\\n')\n",
    "\n",
    "print(classification_report(y_test,knn_pred))\n",
    "print('Matthews Corrcoef:', matthews_corrcoef(y_test, knn_pred))\n",
    "print('ROC Score:', roc_auc_score(y_test, knn_predictProba[:,1]))\n",
    "print('Accuracy Score:', accuracy_score(y_test,knn_pred))"
   ]
  },
  {
   "cell_type": "markdown",
   "metadata": {},
   "source": [
    "### Choosing K Value"
   ]
  },
  {
   "cell_type": "code",
   "execution_count": 63,
   "metadata": {},
   "outputs": [],
   "source": [
    "error_rate = []\n",
    "\n",
    "for i in range(20,70,5):\n",
    "    knn = KNeighborsClassifier(n_neighbors=i)\n",
    "    knn.fit(X_ros,y_ros)\n",
    "    pred_i = knn.predict(X_test)\n",
    "    error_rate.append(np.mean(pred_i != y_test))  "
   ]
  },
  {
   "cell_type": "code",
   "execution_count": 64,
   "metadata": {},
   "outputs": [
    {
     "data": {
      "text/plain": [
       "Text(0,0.5,'Error Rate')"
      ]
     },
     "execution_count": 64,
     "metadata": {},
     "output_type": "execute_result"
    },
    {
     "data": {
      "image/png": "[encoded data removed]",
      "text/plain": [
       "<Figure size 720x432 with 1 Axes>"
      ]
     },
     "metadata": {},
     "output_type": "display_data"
    }
   ],
   "source": [
    "plt.figure(figsize=(10,6))\n",
    "plt.plot(range(20,70,5),error_rate,color='blue', linestyle='dashed', marker='o',\n",
    "         markerfacecolor='red', markersize=10)\n",
    "plt.title('Error Rate vs. K Value')\n",
    "plt.xlabel('K')\n",
    "plt.ylabel('Error Rate')"
   ]
  },
  {
   "cell_type": "markdown",
   "metadata": {},
   "source": [
    "### Train Model"
   ]
  },
  {
   "cell_type": "code",
   "execution_count": 65,
   "metadata": {},
   "outputs": [],
   "source": [
    "knn = KNeighborsClassifier(n_neighbors=20)\n",
    "knn.fit(X_ros,y_ros)\n",
    "knn_pred = knn.predict(X_test)\n",
    "knn_predictProba = knn.predict_proba(X_test)"
   ]
  },
  {
   "cell_type": "code",
   "execution_count": 66,
   "metadata": {},
   "outputs": [
    {
     "name": "stdout",
     "output_type": "stream",
     "text": [
      "            Prediction No  Prediction Yes\n",
      "Actual No            6621            2896\n",
      "Actual Yes           2097            4412\n",
      "\n",
      "\n",
      "              precision    recall  f1-score   support\n",
      "\n",
      "           0       0.76      0.70      0.73      9517\n",
      "           1       0.60      0.68      0.64      6509\n",
      "\n",
      "   micro avg       0.69      0.69      0.69     16026\n",
      "   macro avg       0.68      0.69      0.68     16026\n",
      "weighted avg       0.70      0.69      0.69     16026\n",
      "\n",
      "Matthews Corrcoef: 0.3683227867322797\n",
      "ROC Score: 0.766746524194973\n",
      "Accuracy Score: 0.6884437788593536\n"
     ]
    }
   ],
   "source": [
    "con = pd.DataFrame(data=confusion_matrix(y_test, knn_pred), columns=['Prediction No', 'Prediction Yes'], index=['Actual No', 'Actual Yes'])\n",
    "print(con)\n",
    "print('\\n')\n",
    "\n",
    "print(classification_report(y_test,knn_pred))\n",
    "print('Matthews Corrcoef:', matthews_corrcoef(y_test, knn_pred))\n",
    "print('ROC Score:', roc_auc_score(y_test, knn_predictProba[:,1]))\n",
    "print('Accuracy Score:', accuracy_score(y_test,knn_pred))"
   ]
  },
  {
   "cell_type": "markdown",
   "metadata": {},
   "source": [
    "## 3. XGBoost Classifier"
   ]
  },
  {
   "cell_type": "markdown",
   "metadata": {},
   "source": [
    "### Create data frame RandomOverSampler"
   ]
  },
  {
   "cell_type": "code",
   "execution_count": 67,
   "metadata": {},
   "outputs": [],
   "source": [
    "rosDf = pd.DataFrame(columns=X_train.columns, data=X_ros)\n",
    "rosDf['y_ros'] = y_ros"
   ]
  },
  {
   "cell_type": "markdown",
   "metadata": {},
   "source": [
    "### Train model"
   ]
  },
  {
   "cell_type": "code",
   "execution_count": 68,
   "metadata": {},
   "outputs": [],
   "source": [
    "from xgboost import XGBClassifier"
   ]
  },
  {
   "cell_type": "code",
   "execution_count": 69,
   "metadata": {},
   "outputs": [],
   "source": [
    "xgb = XGBClassifier(random_state=101, n_estimators=100, learning_rate=0.1)\n",
    "xgb.fit(rosDf.drop('y_ros', axis=1),rosDf['y_ros'])\n",
    "\n",
    "xgb_pred = xgb.predict(X_test)\n",
    "xgb_predictProba = xgb.predict_proba(X_test)"
   ]
  },
  {
   "cell_type": "code",
   "execution_count": 70,
   "metadata": {},
   "outputs": [
    {
     "name": "stdout",
     "output_type": "stream",
     "text": [
      "            Prediction No  Prediction Yes\n",
      "Actual No            6842            2675\n",
      "Actual Yes           1321            5188\n",
      "\n",
      "\n",
      "              precision    recall  f1-score   support\n",
      "\n",
      "           0       0.84      0.72      0.77      9517\n",
      "           1       0.66      0.80      0.72      6509\n",
      "\n",
      "   micro avg       0.75      0.75      0.75     16026\n",
      "   macro avg       0.75      0.76      0.75     16026\n",
      "weighted avg       0.77      0.75      0.75     16026\n",
      "\n",
      "Matthews Corr_coef: 0.5068928655446299\n",
      "ROC AUC: 0.854183995897211\n",
      "Accuracy: 0.7506551853238488\n"
     ]
    }
   ],
   "source": [
    "con = pd.DataFrame(data=confusion_matrix(y_test, xgb_pred), columns=['Prediction No', 'Prediction Yes'], index=['Actual No', 'Actual Yes'])\n",
    "print(con)\n",
    "print('\\n')\n",
    "\n",
    "print(classification_report(y_test, xgb_pred))\n",
    "print('Matthews Corr_coef:', matthews_corrcoef(y_test, xgb_pred))\n",
    "print('ROC AUC:', roc_auc_score(y_test, xgb_predictProba[:,1]))\n",
    "print('Accuracy:', accuracy_score(y_test, xgb_pred))"
   ]
  },
  {
   "cell_type": "code",
   "execution_count": null,
   "metadata": {},
   "outputs": [],
   "source": []
  }
 ],
 "metadata": {
  "kernelspec": {
   "display_name": "Python 3",
   "language": "python",
   "name": "python3"
  },
  "language_info": {
   "codemirror_mode": {
    "name": "ipython",
    "version": 3
   },
   "file_extension": ".py",
   "mimetype": "text/x-python",
   "name": "python",
   "nbconvert_exporter": "python",
   "pygments_lexer": "ipython3",
   "version": "3.6.5"
  }
 },
 "nbformat": 4,
 "nbformat_minor": 2
}
